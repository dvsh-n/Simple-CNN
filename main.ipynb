{
 "cells": [
  {
   "cell_type": "markdown",
   "metadata": {},
   "source": [
    "1\\) Conv2D and Corr2D Functions"
   ]
  },
  {
   "cell_type": "code",
   "execution_count": 1,
   "metadata": {},
   "outputs": [],
   "source": [
    "import numpy as np\n",
    "\n",
    "def sq_matrix_rot_180(X):\n",
    "    res = np.zeros(X.shape, float)\n",
    "    n = X.shape[0]\n",
    "    for i in range(n):\n",
    "        for j in range(n):\n",
    "            res[i, j] = X[n-i-1, n-j-1]\n",
    "    return res\n",
    "\n",
    "def Conv2D(image, W, stride): #stride 1, no padding\n",
    "    W_rot = sq_matrix_rot_180(W)\n",
    "    W_dim = W.shape[0]\n",
    "    res_dim = (image.shape[0] - W.shape[0])//stride + 1\n",
    "    res = np.zeros([res_dim, res_dim], float)\n",
    "    for i in range(res_dim):\n",
    "        for j in range(res_dim):\n",
    "            res[i, j] = np.sum(W_rot*image[i*stride:i*stride+W_dim, j*stride:j*stride+W_dim])\n",
    "    return res\n",
    "\n",
    "def Corr2D(image, W, stride): #stride 1, no padding\n",
    "    W_dim = W.shape[0]\n",
    "    res_dim = (image.shape[0] - W.shape[0])//stride + 1\n",
    "    res = np.zeros([res_dim, res_dim], float)\n",
    "    for i in range(res_dim):\n",
    "        for j in range(res_dim):\n",
    "            res[i, j] = np.sum(W*image[i*stride:i*stride+W_dim, j*stride:j*stride+W_dim])\n",
    "    return res"
   ]
  },
  {
   "cell_type": "markdown",
   "metadata": {},
   "source": [
    "Test"
   ]
  },
  {
   "cell_type": "code",
   "execution_count": 2,
   "metadata": {},
   "outputs": [
    {
     "name": "stdout",
     "output_type": "stream",
     "text": [
      "My Conv2D\n",
      "[[0. 0. 0.]\n",
      " [0. 4. 0.]\n",
      " [0. 0. 0.]]\n",
      "My Corr2D\n",
      "[[0. 0. 0.]\n",
      " [0. 4. 0.]\n",
      " [0. 0. 0.]]\n",
      "Scipy Conv2D\n",
      "[[0. 0. 0.]\n",
      " [0. 4. 0.]\n",
      " [0. 0. 0.]]\n",
      "Scipy Corr2D\n",
      "[[0. 0. 0.]\n",
      " [0. 4. 0.]\n",
      " [0. 0. 0.]]\n"
     ]
    }
   ],
   "source": [
    "import scipy.signal as ss\n",
    "\n",
    "def conv2Dd_(image,W,stride,Conv):\n",
    "    if (Conv):\n",
    "        y = ss.convolve2d(image, W, mode='valid') ## valid padding\n",
    "    else:\n",
    "        y = ss.correlate2d(image, W, mode='valid') ## valid padding\n",
    "    Xdim = len(image[0])//stride\n",
    "    x = np.zeros([Xdim,Xdim],float)\n",
    "    if stride>1: ## implement stride\n",
    "        for i in range(0,Xdim):\n",
    "            for j in range(0,Xdim):\n",
    "                x[i,j] = y[i*stride,j*stride]\n",
    "    else:\n",
    "        x = y\n",
    "    return(x)\n",
    "\n",
    "W = np.array([[1,2,3],[3,4,5],[6,7,8]],float)\n",
    "image = np.zeros([7,7],float)\n",
    "image[0,:] = np.array([0,0,0,0,0,0,0])\n",
    "image[1,:] = np.array([0,0,0,0,0,0,0])\n",
    "image[2,:] = np.array([0,0,0,0,0,0,0])\n",
    "image[3,:] = np.array([0,0,0,1,0,0,0])\n",
    "image[4,:] = np.array([0,0,0,0,0,0,0])\n",
    "image[5,:] = np.array([0,0,0,0,0,0,0])\n",
    "image[6,:] = np.array([0,0,0,0,0,0,0])\n",
    "\n",
    "print(\"My Conv2D\")\n",
    "print(Conv2D(image, W, 2))\n",
    "print(\"My Corr2D\")\n",
    "print(Corr2D(image, W, 2))\n",
    "print(\"Scipy Conv2D\")\n",
    "print(conv2Dd_(image, W, 2, True))\n",
    "print(\"Scipy Corr2D\")\n",
    "print(conv2Dd_(image, W, 2, False))\n"
   ]
  },
  {
   "cell_type": "markdown",
   "metadata": {},
   "source": [
    "2\\) CNN Forward Prop"
   ]
  },
  {
   "cell_type": "markdown",
   "metadata": {},
   "source": [
    "Weights, Training Data and Test Data"
   ]
  },
  {
   "cell_type": "code",
   "execution_count": 3,
   "metadata": {},
   "outputs": [],
   "source": [
    "W1 = np. array([[ 1.6975548, -0.07326141, -0.41880725],\n",
    "                [ 0.12228276, -0.19572004, 0.81986898],\n",
    "                [ 0.8876136, -1.8629187, -0.97661273]])\n",
    "\n",
    "W2 = np. array([ 1.10485759, 0.2120758, -1.31693339])\n",
    "\n",
    "# Training Data (numbers 1, 2 and 3 written in 7x7 grid)\n",
    "target = np.array([[1,0,0],[1,0,0],[1,0,0],[0,1,0],[0,1,0],[0,1,0],[0,0,1],[0,0,1],[0,0,1]],float)\n",
    "image7by7 = np.zeros([9,7,7],float)\n",
    "#0\n",
    "image7by7[0,1,:] = np.array([0,0,0,1,0,0,0])\n",
    "image7by7[0,2,:] = np.array([0,0,1,1,0,0,0])\n",
    "image7by7[0,3,:] = np.array([0,0,0,1,0,0,0])\n",
    "image7by7[0,4,:] = np.array([0,0,0,1,0,0,0])\n",
    "image7by7[0,5,:] = np.array([0,0,1,1,1,0,0])\n",
    "## 1\n",
    "image7by7[1,1,:] = np.array([0,0,1,1,0,0,0])\n",
    "image7by7[1,2,:] = np.array([0,0,0,1,0,0,0])\n",
    "image7by7[1,3,:] = np.array([0,0,0,1,0,0,0])\n",
    "image7by7[1,4,:] = np.array([0,0,0,1,0,0,0])\n",
    "image7by7[1,5,:] = np.array([0,0,0,1,0,0,0])\n",
    "## 2\n",
    "image7by7[2,1,:] = np.array([0,0,0,1,0,0,0])\n",
    "image7by7[2,2,:] = np.array([0,0,0,1,0,0,0])\n",
    "image7by7[2,3,:] = np.array([0,0,0,1,0,0,0])\n",
    "image7by7[2,4,:] = np.array([0,0,0,1,0,0,0])\n",
    "image7by7[2,5,:] = np.array([0,1,1,1,1,1,0])\n",
    "## 3\n",
    "image7by7[3,1,:] = np.array([0,1,1,1,1,1,0])\n",
    "image7by7[3,2,:] = np.array([0,1,0,0,1,0,0])\n",
    "image7by7[3,3,:] = np.array([0,0,0,1,0,0,0])\n",
    "image7by7[3,4,:] = np.array([0,1,1,0,0,0,0])\n",
    "image7by7[3,5,:] = np.array([0,1,1,1,1,1,0])\n",
    "## 4\n",
    "image7by7[4,1,:] = np.array([0,0,1,1,1,0,0])\n",
    "image7by7[4,2,:] = np.array([0,0,0,0,1,0,0])\n",
    "image7by7[4,3,:] = np.array([0,0,0,1,0,0,0])\n",
    "image7by7[4,4,:] = np.array([0,0,1,0,0,0,0])\n",
    "image7by7[4,5,:] = np.array([0,0,1,1,1,0,0])\n",
    "## 5\n",
    "image7by7[5,1,:] = np.array([0,0,1,1,0,0,0])\n",
    "image7by7[5,2,:] = np.array([0,1,0,0,1,0,0])\n",
    "image7by7[5,3,:] = np.array([0,0,0,1,0,0,0])\n",
    "image7by7[5,4,:] = np.array([0,0,1,0,0,0,0])\n",
    "image7by7[5,5,:] = np.array([0,1,1,1,1,1,0])\n",
    "## 6\n",
    "image7by7[6,1,:] = np.array([0,1,1,1,1,1,0])\n",
    "image7by7[6,2,:] = np.array([0,1,0,0,0,1,0])\n",
    "image7by7[6,3,:] = np.array([0,0,1,1,1,1,0])\n",
    "image7by7[6,4,:] = np.array([0,0,0,0,0,1,0])\n",
    "image7by7[6,5,:] = np.array([0,1,1,1,1,1,0])\n",
    "## 7\n",
    "image7by7[7,1,:] = np.array([0,0,1,1,1,0,0])\n",
    "image7by7[7,2,:] = np.array([0,1,0,0,0,1,0])\n",
    "image7by7[7,3,:] = np.array([0,0,0,1,1,0,0])\n",
    "image7by7[7,4,:] = np.array([0,1,0,0,0,1,0])\n",
    "image7by7[7,5,:] = np.array([0,0,1,1,1,0,0])\n",
    "## 8\n",
    "image7by7[8,1,:] = np.array([0,1,1,1,1,1,0])\n",
    "image7by7[8,2,:] = np.array([0,1,0,0,0,1,0])\n",
    "image7by7[8,3,:] = np.array([0,0,0,1,1,1,0])\n",
    "image7by7[8,4,:] = np.array([0,1,0,0,0,1,0])\n",
    "image7by7[8,5,:] = np.array([0,1,1,1,1,1,0])\n",
    "\n",
    "# Test Data\n",
    "targett = np.array([[1,0,0],[0,0,1],[0,1,0]],float)\n",
    "image7by7t = np.zeros([3,7,7],float)\n",
    "# 0\n",
    "image7by7t[0,1,:] = np.array([0,0,0,1,0,0,0])\n",
    "image7by7t[0,2,:] = np.array([0,0,0,1,0,0,0])\n",
    "image7by7t[0,3,:] = np.array([0,0,0,1,0,0,0])\n",
    "image7by7t[0,4,:] = np.array([0,0,0,1,0,0,0])\n",
    "image7by7t[0,5,:] = np.array([0,0,0,1,1,0,0])\n",
    "# 1\n",
    "image7by7t[1,1,:] = np.array([0,0,1,1,1,0,0])\n",
    "image7by7t[1,2,:] = np.array([0,1,0,0,0,1,0])\n",
    "image7by7t[1,3,:] = np.array([0,0,0,1,1,1,0])\n",
    "image7by7t[1,4,:] = np.array([0,1,0,0,0,1,0])\n",
    "image7by7t[1,5,:] = np.array([0,0,1,1,1,0,0])\n",
    "# 2\n",
    "image7by7t[2,1,:] = np.array([0,0,1,1,1,1,0])\n",
    "image7by7t[2,2,:] = np.array([0,1,0,0,1,0,0])\n",
    "image7by7t[2,3,:] = np.array([0,0,0,1,0,0,0])\n",
    "image7by7t[2,4,:] = np.array([0,0,1,0,0,0,0])\n",
    "image7by7t[2,5,:] = np.array([0,1,1,1,1,1,0])\n"
   ]
  },
  {
   "cell_type": "markdown",
   "metadata": {},
   "source": [
    "Forward Prop/Prediction using given weights"
   ]
  },
  {
   "cell_type": "code",
   "execution_count": 4,
   "metadata": {},
   "outputs": [
    {
     "name": "stdout",
     "output_type": "stream",
     "text": [
      "[array([1., 0., 0.]), array([1., 0., 0.]), array([1., 0., 0.]), array([0., 1., 0.]), array([0., 1., 0.]), array([0., 1., 0.]), array([0., 0., 1.]), array([0., 0., 1.]), array([0., 0., 1.])]\n"
     ]
    }
   ],
   "source": [
    "def categorize(X):\n",
    "    res = np.zeros(len(X),float)\n",
    "    max_idx = X.tolist().index(max(X.tolist()))\n",
    "    res[max_idx] = 1.0\n",
    "    return res\n",
    "\n",
    "def CNN_pred(images, W1, W2, stride, Corr=False):\n",
    "    res_OH = []\n",
    "    for i in range(images.shape[0]):\n",
    "        if Corr:\n",
    "            X1 = Corr2D(images[i,:,:], W1, stride)\n",
    "        else:\n",
    "            X1 = Conv2D(images[i,:,:], W1, stride)\n",
    "        X2 = np.dot(X1, W2)\n",
    "        res_OH.append(categorize(X2))\n",
    "    return res_OH\n",
    "\n",
    "pred = CNN_pred(image7by7, W1, W2, 2)\n",
    "print(pred)"
   ]
  },
  {
   "cell_type": "markdown",
   "metadata": {},
   "source": [
    "3\\) Backprop and Training"
   ]
  },
  {
   "cell_type": "code",
   "execution_count": 5,
   "metadata": {},
   "outputs": [
    {
     "name": "stdout",
     "output_type": "stream",
     "text": [
      "[[-0.12730102  0.21552891 -0.57487921]\n",
      " [-0.20279269 -0.44149453 -0.44172025]\n",
      " [-0.30453953 -0.23431522 -0.10570045]]\n",
      "[[-0.0412233 ]\n",
      " [-0.36298488]\n",
      " [ 0.13989844]]\n"
     ]
    },
    {
     "data": {
      "text/plain": [
       "[<matplotlib.lines.Line2D at 0x26d9b4c0880>]"
      ]
     },
     "execution_count": 5,
     "metadata": {},
     "output_type": "execute_result"
    },
    {
     "data": {
      "image/png": "[encoded data removed]",
      "text/plain": [
       "<Figure size 640x480 with 1 Axes>"
      ]
     },
     "metadata": {},
     "output_type": "display_data"
    }
   ],
   "source": [
    "import matplotlib.pyplot as plt\n",
    "\n",
    "def CNN_forward_prop(image, W1, W2, stride):\n",
    "    X1 = Conv2D(image, W1, stride)\n",
    "    X2 = np.dot(X1, W2)\n",
    "    return X2, X1\n",
    "\n",
    "def CNN_backward_prop(T, X1, X2, W1, W2, image):\n",
    "    dZ_dX2 = (X2-T).reshape(3,1)\n",
    "    dX2_dX1 = (W2.T).reshape(3,1)\n",
    "    dZ_dW2 = np.dot(X1.T, dZ_dX2)\n",
    "    dZ_dW1 = Corr2D(image, np.dot(dZ_dX2, dX2_dX1.T), 2)\n",
    "    return dZ_dW2, dZ_dW1\n",
    "\n",
    "def CNN_train(images, target, alpha = 5e-6):\n",
    "    np.random.seed(1)\n",
    "    W1 = (np.random.rand(3,3)-0.5)\n",
    "    W2 = (np.random.rand(3)-0.5).reshape(3,1)\n",
    "\n",
    "    errors = []\n",
    "    max_epochs = 20\n",
    "    \n",
    "    for i in range(max_epochs):\n",
    "        for image_idx in range(images.shape[0]):\n",
    "            X0 = images[image_idx]\n",
    "            X2, X1 = CNN_forward_prop(X0, W1, W2, 2)\n",
    "            errors.append(np.linalg.norm(X2-target[image_idx]))\n",
    "            dW2, dW1 = CNN_backward_prop(target[image_idx].reshape(3,1), X1, X2, W1, W2, X0)\n",
    "            W2 -= alpha*dW2\n",
    "            W1 -= alpha*dW1\n",
    "\n",
    "    return W1, W2, errors\n",
    "\n",
    "W1, W2, errors = CNN_train(image7by7, target, alpha=5e-3)\n",
    "\n",
    "print(W1)\n",
    "print(W2)\n",
    "\n",
    "plt.plot(errors)"
   ]
  },
  {
   "cell_type": "code",
   "execution_count": 10,
   "metadata": {},
   "outputs": [
    {
     "name": "stdout",
     "output_type": "stream",
     "text": [
      "Training Predictions: \n",
      "[array([1., 0., 0.]), array([1., 0., 0.]), array([0., 0., 1.]), array([0., 1., 0.]), array([0., 1., 0.]), array([0., 1., 0.]), array([0., 0., 1.]), array([0., 0., 1.]), array([0., 0., 1.])]\n",
      "Training Accuracy: \n",
      "0.8888888888888888\n",
      "\n",
      "\n",
      "Testing Predictions: \n",
      "[array([1., 0., 0.]), array([0., 0., 1.]), array([0., 1., 0.])]\n",
      "Testing Accuracy: \n",
      "1.0\n"
     ]
    }
   ],
   "source": [
    "from sklearn.metrics import accuracy_score\n",
    "\n",
    "train_pred = CNN_pred(image7by7, W1, W2, 2, Corr=True)\n",
    "print(\"Training Predictions: \")\n",
    "print(train_pred)\n",
    "print(\"Training Accuracy: \")\n",
    "print(accuracy_score(target, train_pred))\n",
    "test_pred = CNN_pred(image7by7t, W1, W2, 2, Corr=True)\n",
    "print('\\n')\n",
    "print(\"Testing Predictions: \")\n",
    "print(test_pred)\n",
    "print(\"Testing Accuracy: \")\n",
    "print(accuracy_score(targett, test_pred))"
   ]
  }
 ],
 "metadata": {
  "kernelspec": {
   "display_name": "Python 3",
   "language": "python",
   "name": "python3"
  },
  "language_info": {
   "codemirror_mode": {
    "name": "ipython",
    "version": 3
   },
   "file_extension": ".py",
   "mimetype": "text/x-python",
   "name": "python",
   "nbconvert_exporter": "python",
   "pygments_lexer": "ipython3",
   "version": "3.10.6"
  }
 },
 "nbformat": 4,
 "nbformat_minor": 2
}

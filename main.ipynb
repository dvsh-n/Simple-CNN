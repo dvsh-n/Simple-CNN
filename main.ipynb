{
 "cells": [
  {
   "cell_type": "markdown",
   "metadata": {},
   "source": [
    "1\\) Conv2D and Corr2D Functions"
   ]
  },
  {
   "cell_type": "code",
   "execution_count": 25,
   "metadata": {},
   "outputs": [],
   "source": [
    "import numpy as np\n",
    "\n",
    "def sq_matrix_rot_180(X):\n",
    "    res = np.zeros(X.shape, float)\n",
    "    n = X.shape[0]\n",
    "    for i in range(n):\n",
    "        for j in range(n):\n",
    "            res[i, j] = X[n-i-1, n-j-1]\n",
    "    return res\n",
    "\n",
    "def Conv2D(image, W): #stride 1, no padding\n",
    "    W_rot = sq_matrix_rot_180(W)\n",
    "    W_dim = W.shape[0]\n",
    "    res_dim = image.shape[0] - W.shape[0] + 1\n",
    "    res = np.zeros([res_dim, res_dim], float)\n",
    "    for i in range(res_dim):\n",
    "        for j in range(res_dim):\n",
    "            res[i, j] = np.sum(W_rot*image[i:i+W_dim, j:j+W_dim])\n",
    "    return res\n",
    "\n",
    "def Corr2D(image, W): #stride 1, no padding\n",
    "    W_dim = W.shape[0]\n",
    "    res_dim = image.shape[0] - W.shape[0] + 1\n",
    "    res = np.zeros([res_dim, res_dim], float)\n",
    "    for i in range(res_dim):\n",
    "        for j in range(res_dim):\n",
    "            res[i, j] = np.sum(W*image[i:i+W_dim, j:j+W_dim])\n",
    "    return res"
   ]
  },
  {
   "cell_type": "markdown",
   "metadata": {},
   "source": [
    "Test"
   ]
  },
  {
   "cell_type": "code",
   "execution_count": 29,
   "metadata": {},
   "outputs": [
    {
     "name": "stdout",
     "output_type": "stream",
     "text": [
      "My Conv2D\n",
      "[[0. 0. 0. 0. 0.]\n",
      " [0. 1. 2. 3. 0.]\n",
      " [0. 3. 4. 5. 0.]\n",
      " [0. 6. 7. 8. 0.]\n",
      " [0. 0. 0. 0. 0.]]\n",
      "My Corr2D\n",
      "[[0. 0. 0. 0. 0.]\n",
      " [0. 8. 7. 6. 0.]\n",
      " [0. 5. 4. 3. 0.]\n",
      " [0. 3. 2. 1. 0.]\n",
      " [0. 0. 0. 0. 0.]]\n",
      "Scipy Conv2D\n",
      "[[0. 0. 0. 0. 0.]\n",
      " [0. 1. 2. 3. 0.]\n",
      " [0. 3. 4. 5. 0.]\n",
      " [0. 6. 7. 8. 0.]\n",
      " [0. 0. 0. 0. 0.]]\n",
      "Scipy Corr2D\n",
      "[[0. 0. 0. 0. 0.]\n",
      " [0. 8. 7. 6. 0.]\n",
      " [0. 5. 4. 3. 0.]\n",
      " [0. 3. 2. 1. 0.]\n",
      " [0. 0. 0. 0. 0.]]\n"
     ]
    }
   ],
   "source": [
    "import scipy.signal as ss\n",
    "\n",
    "def conv2Dd_(image,W,stride,Conv):\n",
    "    if (Conv):\n",
    "        y = ss.convolve2d(image, W, mode='valid') ## valid padding\n",
    "    else:\n",
    "        y = ss.correlate2d(image, W, mode='valid') ## valid padding\n",
    "    Xdim = len(image[0])//stride\n",
    "    x = np.zeros([Xdim,Xdim],float)\n",
    "    if stride>1: ## implement stride\n",
    "        for i in range(0,Xdim):\n",
    "            for j in range(0,Xdim):\n",
    "                x[i,j] = y[i*stride,j*stride]\n",
    "    else:\n",
    "        x = y\n",
    "    return(x)\n",
    "\n",
    "W = np.array([[1,2,3],[3,4,5],[6,7,8]],float)\n",
    "image = np.zeros([7,7],float)\n",
    "image[0,:] = np.array([0,0,0,0,0,0,0])\n",
    "image[1,:] = np.array([0,0,0,0,0,0,0])\n",
    "image[2,:] = np.array([0,0,0,0,0,0,0])\n",
    "image[3,:] = np.array([0,0,0,1,0,0,0])\n",
    "image[4,:] = np.array([0,0,0,0,0,0,0])\n",
    "image[5,:] = np.array([0,0,0,0,0,0,0])\n",
    "image[6,:] = np.array([0,0,0,0,0,0,0])\n",
    "\n",
    "print(\"My Conv2D\")\n",
    "print(Conv2D(image, W))\n",
    "print(\"My Corr2D\")\n",
    "print(Corr2D(image, W))\n",
    "print(\"Scipy Conv2D\")\n",
    "print(conv2Dd_(image, W, 1, True))\n",
    "print(\"Scipy Corr2D\")\n",
    "print(conv2Dd_(image, W, 1, False))\n"
   ]
  }
 ],
 "metadata": {
  "kernelspec": {
   "display_name": "Python 3",
   "language": "python",
   "name": "python3"
  },
  "language_info": {
   "codemirror_mode": {
    "name": "ipython",
    "version": 3
   },
   "file_extension": ".py",
   "mimetype": "text/x-python",
   "name": "python",
   "nbconvert_exporter": "python",
   "pygments_lexer": "ipython3",
   "version": "3.10.6"
  }
 },
 "nbformat": 4,
 "nbformat_minor": 2
}

{
 "cells": [
  {
   "cell_type": "markdown",
   "metadata": {},
   "source": [
    "1\\)"
   ]
  },
  {
   "cell_type": "code",
   "execution_count": 14,
   "metadata": {},
   "outputs": [
    {
     "name": "stdout",
     "output_type": "stream",
     "text": [
      "[[0. 1.]\n",
      " [2. 3.]]\n",
      "[[3. 2.]\n",
      " [1. 0.]]\n"
     ]
    }
   ],
   "source": [
    "import numpy as np\n",
    "\n",
    "def sq_matrix_rot_180(X):\n",
    "    res = np.zeros(X.shape, float)\n",
    "    n = X.shape[0]\n",
    "    for i in range(n):\n",
    "        for j in range(n):\n",
    "            res[i, j] = X[n-i-1, n-j-1]\n",
    "    return res\n",
    "\n",
    "W = np.array([[0, 1], [2, 3]], float)\n",
    "print(W)\n",
    "print(sq_matrix_rot_180(W))\n",
    "\n",
    "# def Conv2D(image, W, stride):\n",
    "#     res_dim = len(image[0])//stride\n",
    "#     res = np.zeros([res_dim, res_dim], float)\n",
    "#     for i in range(len(res_dim)):\n",
    "\n"
   ]
  },
  {
   "cell_type": "markdown",
   "metadata": {},
   "source": [
    "Test"
   ]
  },
  {
   "cell_type": "code",
   "execution_count": 1,
   "metadata": {},
   "outputs": [],
   "source": [
    "import scipy.signal as ss\n",
    "\n",
    "def conv2Dd_(image,W,stride,Conv):\n",
    "    if (Conv):\n",
    "        y = ss.convolve2d(image, W, mode='valid') ## valid padding\n",
    "    else:\n",
    "        y = ss.correlate2d(image, W, mode='valid') ## valid padding\n",
    "    Xdim = len(image[0])//stride\n",
    "    x = np.zeros([Xdim,Xdim],float)\n",
    "    if stride>1: ## implement stride\n",
    "        for i in range(0,Xdim):\n",
    "            for j in range(0,Xdim):\n",
    "                x[i,j] = y[i*stride,j*stride]\n",
    "    else:\n",
    "        x = y\n",
    "    return(x)"
   ]
  }
 ],
 "metadata": {
  "kernelspec": {
   "display_name": "Python 3",
   "language": "python",
   "name": "python3"
  },
  "language_info": {
   "codemirror_mode": {
    "name": "ipython",
    "version": 3
   },
   "file_extension": ".py",
   "mimetype": "text/x-python",
   "name": "python",
   "nbconvert_exporter": "python",
   "pygments_lexer": "ipython3",
   "version": "3.10.6"
  }
 },
 "nbformat": 4,
 "nbformat_minor": 2
}
